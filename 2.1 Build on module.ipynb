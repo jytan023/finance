{
 "cells": [
  {
   "cell_type": "markdown",
   "id": "52380427-b68c-4ebc-9fb0-5f8d32437dbb",
   "metadata": {},
   "source": [
    "# Make Module"
   ]
  },
  {
   "cell_type": "code",
   "execution_count": 2,
   "id": "7f366099-6c07-42b0-b866-2cf2268bd288",
   "metadata": {},
   "outputs": [],
   "source": [
    "import pandas as pd"
   ]
  },
  {
   "cell_type": "code",
   "execution_count": 29,
   "id": "ef29fb8e-d7e2-486c-b46f-1eac8e6702b7",
   "metadata": {},
   "outputs": [],
   "source": [
    "# import self made module in same directory\n",
    "import finance as f"
   ]
  },
  {
   "cell_type": "code",
   "execution_count": 35,
   "id": "06d14868-fc0a-4dd6-af54-71b5db5b2c0d",
   "metadata": {},
   "outputs": [
    {
     "data": {
      "text/plain": [
       "16"
      ]
     },
     "execution_count": 35,
     "metadata": {},
     "output_type": "execute_result"
    }
   ],
   "source": [
    "f.test(4)"
   ]
  },
  {
   "cell_type": "code",
   "execution_count": 18,
   "id": "0756943a-65b0-43a2-8af7-d74ad9272ec2",
   "metadata": {},
   "outputs": [
    {
     "data": {
      "text/plain": [
       "'Message'"
      ]
     },
     "execution_count": 18,
     "metadata": {},
     "output_type": "execute_result"
    }
   ],
   "source": [
    "f.hello"
   ]
  },
  {
   "cell_type": "code",
   "execution_count": 20,
   "id": "12eba19a-936a-4b37-9c52-1a5884205a01",
   "metadata": {},
   "outputs": [],
   "source": [
    "# autoreload module\n",
    "\n",
    "%load_ext autoreload\n",
    "%autoreload 2"
   ]
  },
  {
   "cell_type": "code",
   "execution_count": 31,
   "id": "a9181bde-5bcb-440f-96b7-dc41cb09a80b",
   "metadata": {},
   "outputs": [],
   "source": []
  },
  {
   "cell_type": "code",
   "execution_count": 32,
   "id": "a40b036a-a126-4894-9ed6-904e50a3a743",
   "metadata": {},
   "outputs": [
    {
     "data": {
      "text/plain": [
       "'Message 2'"
      ]
     },
     "execution_count": 32,
     "metadata": {},
     "output_type": "execute_result"
    }
   ],
   "source": [
    "f.hello"
   ]
  },
  {
   "cell_type": "code",
   "execution_count": null,
   "id": "90ee44c8-ece4-4f2e-9163-7b52d7ef6a7e",
   "metadata": {},
   "outputs": [],
   "source": []
  }
 ],
 "metadata": {
  "kernelspec": {
   "display_name": "Python 3 (ipykernel)",
   "language": "python",
   "name": "python3"
  },
  "language_info": {
   "codemirror_mode": {
    "name": "ipython",
    "version": 3
   },
   "file_extension": ".py",
   "mimetype": "text/x-python",
   "name": "python",
   "nbconvert_exporter": "python",
   "pygments_lexer": "ipython3",
   "version": "3.9.7"
  }
 },
 "nbformat": 4,
 "nbformat_minor": 5
}
