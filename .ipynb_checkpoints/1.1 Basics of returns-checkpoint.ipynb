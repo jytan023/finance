{
 "cells": [
  {
   "cell_type": "markdown",
   "id": "8aad27a0-c61f-49d9-9fbb-3d58c49ea3da",
   "metadata": {
    "tags": []
   },
   "source": [
    "# Basics of returns "
   ]
  },
  {
   "cell_type": "code",
   "execution_count": 1,
   "id": "972d920d-bc38-4c66-a339-6148f41d34d5",
   "metadata": {},
   "outputs": [],
   "source": [
    "import numpy as np\n",
    "import pandas as pd"
   ]
  },
  {
   "cell_type": "markdown",
   "id": "03f63efd-2b30-4925-83d6-ae3551cd4dfb",
   "metadata": {},
   "source": [
    "Returns formula:\n",
    "\n",
    "$$ R_{t,t+1} = \\frac{P_{t+1}-P_{t}}{P_{t}} $$\n",
    "\n",
    "or alternatively\n",
    "\n",
    "$$ R_{t,t+1} = \\frac{P_{t+1}}{P_{t}} - 1 $$"
   ]
  },
  {
   "cell_type": "code",
   "execution_count": 2,
   "id": "d833ebdc-1f42-44ae-ad79-03d9cc91ac36",
   "metadata": {},
   "outputs": [],
   "source": [
    "prices = pd.DataFrame({'Stock A' : [8.71, 8.92, 8.79, 8.6],\n",
    "                        'Stock B' : [10.7, 11.7, 9.5, 13.5]})\n"
   ]
  },
  {
   "cell_type": "code",
   "execution_count": 3,
   "id": "a0123ac6-c5cf-4f4a-a561-a5742cd25275",
   "metadata": {},
   "outputs": [
    {
     "data": {
      "text/html": [
       "<div>\n",
       "<style scoped>\n",
       "    .dataframe tbody tr th:only-of-type {\n",
       "        vertical-align: middle;\n",
       "    }\n",
       "\n",
       "    .dataframe tbody tr th {\n",
       "        vertical-align: top;\n",
       "    }\n",
       "\n",
       "    .dataframe thead th {\n",
       "        text-align: right;\n",
       "    }\n",
       "</style>\n",
       "<table border=\"1\" class=\"dataframe\">\n",
       "  <thead>\n",
       "    <tr style=\"text-align: right;\">\n",
       "      <th></th>\n",
       "      <th>Stock A</th>\n",
       "      <th>Stock B</th>\n",
       "    </tr>\n",
       "  </thead>\n",
       "  <tbody>\n",
       "    <tr>\n",
       "      <th>0</th>\n",
       "      <td>8.71</td>\n",
       "      <td>10.7</td>\n",
       "    </tr>\n",
       "    <tr>\n",
       "      <th>1</th>\n",
       "      <td>8.92</td>\n",
       "      <td>11.7</td>\n",
       "    </tr>\n",
       "    <tr>\n",
       "      <th>2</th>\n",
       "      <td>8.79</td>\n",
       "      <td>9.5</td>\n",
       "    </tr>\n",
       "    <tr>\n",
       "      <th>3</th>\n",
       "      <td>8.60</td>\n",
       "      <td>13.5</td>\n",
       "    </tr>\n",
       "  </tbody>\n",
       "</table>\n",
       "</div>"
      ],
      "text/plain": [
       "   Stock A  Stock B\n",
       "0     8.71     10.7\n",
       "1     8.92     11.7\n",
       "2     8.79      9.5\n",
       "3     8.60     13.5"
      ]
     },
     "execution_count": 3,
     "metadata": {},
     "output_type": "execute_result"
    }
   ],
   "source": [
    "prices"
   ]
  },
  {
   "cell_type": "code",
   "execution_count": 4,
   "id": "ce69cc89-fd17-4bd1-9e94-4d6172a0f90d",
   "metadata": {},
   "outputs": [
    {
     "data": {
      "text/html": [
       "<div>\n",
       "<style scoped>\n",
       "    .dataframe tbody tr th:only-of-type {\n",
       "        vertical-align: middle;\n",
       "    }\n",
       "\n",
       "    .dataframe tbody tr th {\n",
       "        vertical-align: top;\n",
       "    }\n",
       "\n",
       "    .dataframe thead th {\n",
       "        text-align: right;\n",
       "    }\n",
       "</style>\n",
       "<table border=\"1\" class=\"dataframe\">\n",
       "  <thead>\n",
       "    <tr style=\"text-align: right;\">\n",
       "      <th></th>\n",
       "      <th>Stock A</th>\n",
       "      <th>Stock B</th>\n",
       "    </tr>\n",
       "  </thead>\n",
       "  <tbody>\n",
       "    <tr>\n",
       "      <th>0</th>\n",
       "      <td>NaN</td>\n",
       "      <td>NaN</td>\n",
       "    </tr>\n",
       "    <tr>\n",
       "      <th>1</th>\n",
       "      <td>0.024110</td>\n",
       "      <td>0.093458</td>\n",
       "    </tr>\n",
       "    <tr>\n",
       "      <th>2</th>\n",
       "      <td>-0.014574</td>\n",
       "      <td>-0.188034</td>\n",
       "    </tr>\n",
       "    <tr>\n",
       "      <th>3</th>\n",
       "      <td>-0.021615</td>\n",
       "      <td>0.421053</td>\n",
       "    </tr>\n",
       "  </tbody>\n",
       "</table>\n",
       "</div>"
      ],
      "text/plain": [
       "    Stock A   Stock B\n",
       "0       NaN       NaN\n",
       "1  0.024110  0.093458\n",
       "2 -0.014574 -0.188034\n",
       "3 -0.021615  0.421053"
      ]
     },
     "execution_count": 4,
     "metadata": {},
     "output_type": "execute_result"
    }
   ],
   "source": [
    "# Percentage changes/returns\n",
    "changes = pd.DataFrame(prices.iloc[1:].values/prices.iloc[:-1].values - 1, columns = ['Red', 'Green'])\n",
    "# simpler ways\n",
    "changes = prices/prices.shift(1)-1\n",
    "prices.pct_change()"
   ]
  },
  {
   "cell_type": "code",
   "execution_count": 5,
   "id": "af24675b-8b8c-4fd3-9952-8b0435bed26b",
   "metadata": {},
   "outputs": [
    {
     "data": {
      "text/html": [
       "<div>\n",
       "<style scoped>\n",
       "    .dataframe tbody tr th:only-of-type {\n",
       "        vertical-align: middle;\n",
       "    }\n",
       "\n",
       "    .dataframe tbody tr th {\n",
       "        vertical-align: top;\n",
       "    }\n",
       "\n",
       "    .dataframe thead th {\n",
       "        text-align: right;\n",
       "    }\n",
       "</style>\n",
       "<table border=\"1\" class=\"dataframe\">\n",
       "  <thead>\n",
       "    <tr style=\"text-align: right;\">\n",
       "      <th></th>\n",
       "      <th>Stock A</th>\n",
       "      <th>Stock B</th>\n",
       "    </tr>\n",
       "  </thead>\n",
       "  <tbody>\n",
       "    <tr>\n",
       "      <th>0</th>\n",
       "      <td>NaN</td>\n",
       "      <td>NaN</td>\n",
       "    </tr>\n",
       "    <tr>\n",
       "      <th>1</th>\n",
       "      <td>0.024110</td>\n",
       "      <td>0.093458</td>\n",
       "    </tr>\n",
       "    <tr>\n",
       "      <th>2</th>\n",
       "      <td>-0.014574</td>\n",
       "      <td>-0.188034</td>\n",
       "    </tr>\n",
       "    <tr>\n",
       "      <th>3</th>\n",
       "      <td>-0.021615</td>\n",
       "      <td>0.421053</td>\n",
       "    </tr>\n",
       "  </tbody>\n",
       "</table>\n",
       "</div>"
      ],
      "text/plain": [
       "    Stock A   Stock B\n",
       "0       NaN       NaN\n",
       "1  0.024110  0.093458\n",
       "2 -0.014574 -0.188034\n",
       "3 -0.021615  0.421053"
      ]
     },
     "execution_count": 5,
     "metadata": {},
     "output_type": "execute_result"
    }
   ],
   "source": [
    "changes"
   ]
  },
  {
   "cell_type": "code",
   "execution_count": 6,
   "id": "2ffcc0d8-01f3-4ae8-a08a-80d0b942bce7",
   "metadata": {},
   "outputs": [
    {
     "data": {
      "text/plain": [
       "<AxesSubplot:>"
      ]
     },
     "execution_count": 6,
     "metadata": {},
     "output_type": "execute_result"
    },
    {
     "data": {
      "image/png": "[encoded data removed]",
      "text/plain": [
       "<Figure size 432x288 with 1 Axes>"
      ]
     },
     "metadata": {
      "needs_background": "light"
     },
     "output_type": "display_data"
    }
   ],
   "source": [
    "%matplotlib inline\n",
    "prices.plot()"
   ]
  },
  {
   "cell_type": "code",
   "execution_count": 7,
   "id": "f956ba70-948e-4a08-912c-26a3d2ac2887",
   "metadata": {},
   "outputs": [
    {
     "name": "stdout",
     "output_type": "stream",
     "text": [
      "Standard Deviation : \n",
      " Stock A    0.024620\n",
      "Stock B    0.304834\n",
      "dtype: float64 \n",
      "\n",
      " Mean return : \n",
      " Stock A   -0.004026\n",
      "Stock B    0.108825\n",
      "dtype: float64\n",
      "\n",
      " Compounded return : \n",
      " Stock A   -0.012629\n",
      "Stock B    0.261682\n",
      "dtype: float64\n"
     ]
    },
    {
     "data": {
      "text/plain": [
       "Stock A   -0.012629\n",
       "Stock B    0.261682\n",
       "dtype: float64"
      ]
     },
     "execution_count": 7,
     "metadata": {},
     "output_type": "execute_result"
    },
    {
     "data": {
      "image/png": "[encoded data removed]",
      "text/plain": [
       "<Figure size 432x288 with 1 Axes>"
      ]
     },
     "metadata": {
      "needs_background": "light"
     },
     "output_type": "display_data"
    }
   ],
   "source": [
    "# Visually inspect volatility\n",
    "changes.plot.bar()\n",
    "\n",
    "# Standard deviation & mean\n",
    "print('Standard Deviation : \\n', changes.std(), '\\n\\n','Mean return : \\n', changes.mean())\n",
    "\n",
    "# Compounded return\n",
    "print('\\n Compounded return : \\n', np.prod(changes + 1) - 1)  \n",
    "\n",
    "((changes+1).prod()-1)"
   ]
  },
  {
   "cell_type": "markdown",
   "id": "9c5b7f21-ab65-4def-8b2f-4c5dcd447ab0",
   "metadata": {
    "tags": []
   },
   "source": [
    "# Annualized return"
   ]
  },
  {
   "cell_type": "code",
   "execution_count": 8,
   "id": "32a4221e-da8f-49d1-920c-67fbaed390fa",
   "metadata": {},
   "outputs": [
    {
     "name": "stdout",
     "output_type": "stream",
     "text": [
      "0.12682503013196977\n",
      "0.040604010000000024\n",
      "11.274002099240244\n"
     ]
    }
   ],
   "source": [
    "rate = 0.01\n",
    "# From monthly\n",
    "print((1+rate)**12 - 1)\n",
    "\n",
    "# From Quarterly\n",
    "print((1+rate)**4 - 1)\n",
    "\n",
    "# From Daily (252 for stocks)\n",
    "print((1+rate)**252 - 1)"
   ]
  },
  {
   "cell_type": "code",
   "execution_count": null,
   "id": "6c1e4f20-e8c5-48b5-b872-1dc7e4bec69b",
   "metadata": {},
   "outputs": [],
   "source": []
  }
 ],
 "metadata": {
  "kernelspec": {
   "display_name": "Python 3 (ipykernel)",
   "language": "python",
   "name": "python3"
  },
  "language_info": {
   "codemirror_mode": {
    "name": "ipython",
    "version": 3
   },
   "file_extension": ".py",
   "mimetype": "text/x-python",
   "name": "python",
   "nbconvert_exporter": "python",
   "pygments_lexer": "ipython3",
   "version": "3.9.7"
  }
 },
 "nbformat": 4,
 "nbformat_minor": 5
}
