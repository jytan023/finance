{
 "cells": [
  {
   "cell_type": "code",
   "execution_count": 2,
   "id": "2aa3934e-fc8d-430d-988c-b449da0bea10",
   "metadata": {},
   "outputs": [
    {
     "name": "stdout",
     "output_type": "stream",
     "text": [
      "The autoreload extension is already loaded. To reload it, use:\n",
      "  %reload_ext autoreload\n"
     ]
    }
   ],
   "source": [
    "import pandas as pd\n",
    "import numpy as np\n",
    "import finance as fin\n",
    "import scipy.stats\n",
    "%load_ext autoreload \n",
    "%autoreload 2\n",
    "\n"
   ]
  },
  {
   "cell_type": "code",
   "execution_count": null,
   "id": "99a94d86-df97-44ab-ac10-1d3652020703",
   "metadata": {},
   "outputs": [],
   "source": [
    "!pip install quantconnect-stubs"
   ]
  },
  {
   "cell_type": "code",
   "execution_count": 12,
   "id": "6d3dfd8a-9ef5-43b4-8e19-a6f62a1e290b",
   "metadata": {},
   "outputs": [
    {
     "ename": "ModuleNotFoundError",
     "evalue": "No module named 'QuantConnect'",
     "output_type": "error",
     "traceback": [
      "\u001b[1;31m---------------------------------------------------------------------------\u001b[0m",
      "\u001b[1;31mModuleNotFoundError\u001b[0m                       Traceback (most recent call last)",
      "\u001b[1;32m~\\AppData\\Local\\Temp/ipykernel_1388/3080707405.py\u001b[0m in \u001b[0;36m<module>\u001b[1;34m\u001b[0m\n\u001b[1;32m----> 1\u001b[1;33m \u001b[1;32mfrom\u001b[0m \u001b[0mQuantConnect\u001b[0m \u001b[1;32mimport\u001b[0m \u001b[1;33m*\u001b[0m\u001b[1;33m\u001b[0m\u001b[1;33m\u001b[0m\u001b[0m\n\u001b[0m\u001b[0;32m      2\u001b[0m \u001b[1;32mfrom\u001b[0m \u001b[0mQuantConnect\u001b[0m\u001b[1;33m.\u001b[0m\u001b[0mParameters\u001b[0m \u001b[1;32mimport\u001b[0m \u001b[1;33m*\u001b[0m\u001b[1;33m\u001b[0m\u001b[1;33m\u001b[0m\u001b[0m\n\u001b[0;32m      3\u001b[0m \u001b[1;32mfrom\u001b[0m \u001b[0mQuantConnect\u001b[0m\u001b[1;33m.\u001b[0m\u001b[0mBenchmarks\u001b[0m \u001b[1;32mimport\u001b[0m \u001b[1;33m*\u001b[0m\u001b[1;33m\u001b[0m\u001b[1;33m\u001b[0m\u001b[0m\n\u001b[0;32m      4\u001b[0m \u001b[1;32mfrom\u001b[0m \u001b[0mQuantConnect\u001b[0m\u001b[1;33m.\u001b[0m\u001b[0mBrokerages\u001b[0m \u001b[1;32mimport\u001b[0m \u001b[1;33m*\u001b[0m\u001b[1;33m\u001b[0m\u001b[1;33m\u001b[0m\u001b[0m\n\u001b[0;32m      5\u001b[0m \u001b[1;32mfrom\u001b[0m \u001b[0mQuantConnect\u001b[0m\u001b[1;33m.\u001b[0m\u001b[0mUtil\u001b[0m \u001b[1;32mimport\u001b[0m \u001b[1;33m*\u001b[0m\u001b[1;33m\u001b[0m\u001b[1;33m\u001b[0m\u001b[0m\n",
      "\u001b[1;31mModuleNotFoundError\u001b[0m: No module named 'QuantConnect'"
     ]
    }
   ],
   "source": []
  },
  {
   "cell_type": "code",
   "execution_count": null,
   "id": "1a651d3f-ffbe-441c-b3b7-c41511c3e73b",
   "metadata": {},
   "outputs": [],
   "source": []
  },
  {
   "cell_type": "code",
   "execution_count": 2,
   "id": "0ac77481-b964-425d-a86c-14d4ad16d3be",
   "metadata": {},
   "outputs": [],
   "source": [
    "returns = fin.get_ind_returns()"
   ]
  },
  {
   "cell_type": "code",
   "execution_count": 31,
   "id": "d147ece5-7216-4eda-a44f-6d28feff4c66",
   "metadata": {},
   "outputs": [
    {
     "data": {
      "text/plain": [
       "Food         0.116799\n",
       "Risk_Free    0.025000\n",
       "dtype: float64"
      ]
     },
     "execution_count": 31,
     "metadata": {},
     "output_type": "execute_result"
    }
   ],
   "source": [
    "returns['Risk_Free'] = (1.025**(1/12))-1\n",
    "er[a]"
   ]
  },
  {
   "cell_type": "code",
   "execution_count": 32,
   "id": "813f6654-6324-4560-b750-93245c43bdb9",
   "metadata": {},
   "outputs": [],
   "source": [
    "er = fin.annualize_rets(returns[\"1996\":\"2000\"], 12)\n",
    "cov = returns[\"1996\":\"2000\"].cov()\n"
   ]
  },
  {
   "cell_type": "code",
   "execution_count": 33,
   "id": "b4294a70-fe9f-4e1e-87d1-da6d2ed01ea8",
   "metadata": {},
   "outputs": [],
   "source": [
    "a = list(returns.columns)\n",
    "a = ['Food','Risk_Free']\n",
    "# l = [\"Smoke\", \"Fin\", \"Games\", \"Coal\"]"
   ]
  },
  {
   "cell_type": "code",
   "execution_count": 34,
   "id": "6ea03a1a-b055-4421-a1fb-e5abbd9e5837",
   "metadata": {},
   "outputs": [
    {
     "data": {
      "text/plain": [
       "<AxesSubplot:xlabel='Volatility'>"
      ]
     },
     "execution_count": 34,
     "metadata": {},
     "output_type": "execute_result"
    },
    {
     "data": {
      "image/png": "[encoded data removed]",
      "text/plain": [
       "<Figure size 432x288 with 1 Axes>"
      ]
     },
     "metadata": {
      "needs_background": "light"
     },
     "output_type": "display_data"
    }
   ],
   "source": [
    "fin.plot_ef(50, er[a], cov.loc[a,a], riskfree_rate=0.025, show_ew=True, show_cml=True, show_gmv=True)"
   ]
  },
  {
   "cell_type": "code",
   "execution_count": 36,
   "id": "6974697c-bc36-44d3-bd17-7017e5bc8c30",
   "metadata": {},
   "outputs": [],
   "source": [
    "test = pd.DataFrame()\n",
    "test['Stocks'] = list(er[a].index)\n",
    "test['Weights'] = list(fin.msr(0.025, er[a], cov.loc[a,a]))"
   ]
  },
  {
   "cell_type": "code",
   "execution_count": 50,
   "id": "85fc1639-21cb-4695-8bc0-7096ce6a82c1",
   "metadata": {},
   "outputs": [],
   "source": [
    "r = fin.portfolio_return(fin.msr(0.025, er[a], cov.loc[a,a]), er[a])\n",
    "vol = fin.portfolio_vol(fin.msr(0.025, er[a], cov.loc[a,a]), cov.loc[a,a])"
   ]
  },
  {
   "cell_type": "code",
   "execution_count": 51,
   "id": "01c9b051-5c58-4c62-b6d2-1cf0054c1207",
   "metadata": {},
   "outputs": [
    {
     "data": {
      "text/plain": [
       "0.22278538898098926"
      ]
     },
     "execution_count": 51,
     "metadata": {},
     "output_type": "execute_result"
    }
   ],
   "source": []
  },
  {
   "cell_type": "code",
   "execution_count": 52,
   "id": "b1d50cd6-8509-4c30-970f-a9b9b64f1370",
   "metadata": {},
   "outputs": [
    {
     "data": {
      "text/plain": [
       "0.03585178970993479"
      ]
     },
     "execution_count": 52,
     "metadata": {},
     "output_type": "execute_result"
    }
   ],
   "source": []
  },
  {
   "cell_type": "code",
   "execution_count": null,
   "id": "aa3850f5-c64f-4f6f-9407-4e647d92c33c",
   "metadata": {},
   "outputs": [],
   "source": []
  }
 ],
 "metadata": {
  "kernelspec": {
   "display_name": "Python 3 (ipykernel)",
   "language": "python",
   "name": "python3"
  },
  "language_info": {
   "codemirror_mode": {
    "name": "ipython",
    "version": 3
   },
   "file_extension": ".py",
   "mimetype": "text/x-python",
   "name": "python",
   "nbconvert_exporter": "python",
   "pygments_lexer": "ipython3",
   "version": "3.9.7"
  }
 },
 "nbformat": 4,
 "nbformat_minor": 5
}
