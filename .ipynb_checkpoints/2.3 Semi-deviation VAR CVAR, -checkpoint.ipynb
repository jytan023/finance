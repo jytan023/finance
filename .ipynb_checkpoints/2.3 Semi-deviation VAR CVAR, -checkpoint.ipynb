{
 "cells": [
  {
   "cell_type": "markdown",
   "id": "70a27faf-7f74-42d2-b90a-ab4d4b418ebe",
   "metadata": {},
   "source": [
    "# Downside!"
   ]
  },
  {
   "cell_type": "code",
   "execution_count": 1,
   "id": "2dcaa2e2-83ce-450b-a071-8426d578a63c",
   "metadata": {},
   "outputs": [],
   "source": [
    "import numpy as np\n",
    "import pandas as pd\n",
    "import finance as fin\n",
    "from scipy.stats import norm\n",
    "%load_ext autoreload \n",
    "%autoreload 2"
   ]
  },
  {
   "cell_type": "code",
   "execution_count": 2,
   "id": "51875fd3-e772-488f-beae-045e354c0289",
   "metadata": {},
   "outputs": [],
   "source": [
    "hfi =fin.load_data('data/edhec-hedgefundindices.csv')"
   ]
  },
  {
   "cell_type": "markdown",
   "id": "435ad695-01d9-4415-b4ad-4d12a330a551",
   "metadata": {},
   "source": [
    "# Semideviation"
   ]
  },
  {
   "cell_type": "code",
   "execution_count": 3,
   "id": "35d2f1e4-68ca-45a8-a79f-24b57bc84719",
   "metadata": {},
   "outputs": [
    {
     "data": {
      "text/plain": [
       "Convertible Arbitrage     0.016567\n",
       "CTA Global                0.023335\n",
       "Distressed Securities     0.017042\n",
       "Emerging Markets          0.032538\n",
       "Equity Market Neutral     0.008130\n",
       "Event Driven              0.016744\n",
       "Fixed Income Arbitrage    0.011539\n",
       "Global Macro              0.014722\n",
       "Long/Short Equity         0.019935\n",
       "Merger Arbitrage          0.009619\n",
       "Relative Value            0.011484\n",
       "Short Selling             0.047746\n",
       "Funds Of Funds            0.015566\n",
       "dtype: float64"
      ]
     },
     "execution_count": 3,
     "metadata": {},
     "output_type": "execute_result"
    }
   ],
   "source": [
    "hfi.std()"
   ]
  },
  {
   "cell_type": "code",
   "execution_count": 4,
   "id": "47a7a572-f5af-4cea-b9eb-7ee20af66a62",
   "metadata": {},
   "outputs": [
    {
     "data": {
      "text/plain": [
       "Convertible Arbitrage     0.019687\n",
       "CTA Global                0.012495\n",
       "Distressed Securities     0.015288\n",
       "Emerging Markets          0.028197\n",
       "Equity Market Neutral     0.009667\n",
       "Event Driven              0.015536\n",
       "Fixed Income Arbitrage    0.017940\n",
       "Global Macro              0.006612\n",
       "Long/Short Equity         0.014133\n",
       "Merger Arbitrage          0.008954\n",
       "Relative Value            0.012355\n",
       "Short Selling             0.027377\n",
       "Funds Of Funds            0.012191\n",
       "dtype: float64"
      ]
     },
     "execution_count": 4,
     "metadata": {},
     "output_type": "execute_result"
    }
   ],
   "source": [
    "# compute std of mean below 0\n",
    "hfi[hfi<0].std()\n",
    "fin.semideviation(hfi)"
   ]
  },
  {
   "cell_type": "markdown",
   "id": "bb058c69-714b-4c42-a325-b4cf7ec25568",
   "metadata": {},
   "source": [
    "# VaR/CVaR\n",
    "Value at Risk\n",
    "\n",
    "- Histroic VaR\n",
    "- Parametric VaR - Gaussian\n",
    "- Modified Cornish-Fisher VaR"
   ]
  },
  {
   "cell_type": "code",
   "execution_count": 5,
   "id": "8d2162d2-cfad-4a1c-a63f-f410cbb2081c",
   "metadata": {},
   "outputs": [
    {
     "data": {
      "text/plain": [
       "array([-0.01576, -0.03169, -0.01966, -0.04247, -0.00814, -0.02535,\n",
       "       -0.00787, -0.01499, -0.02598, -0.01047, -0.01174, -0.06783,\n",
       "       -0.02047])"
      ]
     },
     "execution_count": 5,
     "metadata": {},
     "output_type": "execute_result"
    }
   ],
   "source": [
    "np.percentile(hfi, 5, axis = 0)"
   ]
  },
  {
   "cell_type": "code",
   "execution_count": null,
   "id": "7e375387-9480-4e81-8018-8be2077c67ba",
   "metadata": {},
   "outputs": [],
   "source": []
  },
  {
   "cell_type": "code",
   "execution_count": 6,
   "id": "c5d49455-1ed6-459c-b030-c490065eac83",
   "metadata": {},
   "outputs": [
    {
     "data": {
      "text/plain": [
       "Convertible Arbitrage     0.031776\n",
       "CTA Global                0.049542\n",
       "Distressed Securities     0.046654\n",
       "Emerging Markets          0.088466\n",
       "Equity Market Neutral     0.018000\n",
       "Event Driven              0.048612\n",
       "Fixed Income Arbitrage    0.041672\n",
       "Global Macro              0.024316\n",
       "Long/Short Equity         0.049558\n",
       "Merger Arbitrage          0.025336\n",
       "Relative Value            0.026660\n",
       "Short Selling             0.113576\n",
       "Funds Of Funds            0.039664\n",
       "dtype: float64"
      ]
     },
     "execution_count": 6,
     "metadata": {},
     "output_type": "execute_result"
    }
   ],
   "source": [
    "fin.var_historic(hfi, level = 1)"
   ]
  },
  {
   "cell_type": "code",
   "execution_count": 7,
   "id": "47ac3e27-8772-4270-b955-e9494de95658",
   "metadata": {},
   "outputs": [
    {
     "data": {
      "text/plain": [
       "-1.6448536269514729"
      ]
     },
     "execution_count": 7,
     "metadata": {},
     "output_type": "execute_result"
    }
   ],
   "source": [
    "z = norm.ppf(.05)\n",
    "z"
   ]
  },
  {
   "cell_type": "code",
   "execution_count": 8,
   "id": "085e975a-e696-4d6f-87ef-4f0580cb3c17",
   "metadata": {},
   "outputs": [
    {
     "data": {
      "text/plain": [
       "Convertible Arbitrage     0.025238\n",
       "CTA Global                0.033182\n",
       "Distressed Securities     0.025154\n",
       "Emerging Markets          0.053118\n",
       "Equity Market Neutral     0.010764\n",
       "Event Driven              0.025566\n",
       "Fixed Income Arbitrage    0.017941\n",
       "Global Macro              0.013657\n",
       "Long/Short Equity         0.028002\n",
       "Merger Arbitrage          0.012642\n",
       "Relative Value            0.016194\n",
       "Short Selling             0.066390\n",
       "Funds Of Funds            0.021633\n",
       "dtype: float64"
      ]
     },
     "execution_count": 8,
     "metadata": {},
     "output_type": "execute_result"
    }
   ],
   "source": [
    "-(hfi.mean() + z*hfi.std())\n",
    "fin.var_gaussian(hfi, modified = True)"
   ]
  },
  {
   "cell_type": "code",
   "execution_count": 9,
   "id": "6b1d6b79-e2fd-4926-91eb-e229c61f282a",
   "metadata": {},
   "outputs": [
    {
     "data": {
      "text/plain": [
       "Convertible Arbitrage     0.021743\n",
       "CTA Global                0.034308\n",
       "Distressed Securities     0.021085\n",
       "Emerging Markets          0.047266\n",
       "Equity Market Neutral     0.008875\n",
       "Event Driven              0.021196\n",
       "Fixed Income Arbitrage    0.014615\n",
       "Global Macro              0.018813\n",
       "Long/Short Equity         0.026459\n",
       "Merger Arbitrage          0.010466\n",
       "Relative Value            0.013097\n",
       "Short Selling             0.080236\n",
       "Funds Of Funds            0.021341\n",
       "dtype: float64"
      ]
     },
     "execution_count": 9,
     "metadata": {},
     "output_type": "execute_result"
    }
   ],
   "source": [
    "-(hfi.mean() + z*hfi.std())"
   ]
  },
  {
   "cell_type": "code",
   "execution_count": 11,
   "id": "2e5c9c87-f746-4522-8222-98d4058247d8",
   "metadata": {},
   "outputs": [
    {
     "data": {
      "text/plain": [
       "<AxesSubplot:title={'center':'Hedge Fund Indices: VaR at 5%'}>"
      ]
     },
     "execution_count": 11,
     "metadata": {},
     "output_type": "execute_result"
    },
    {
     "data": {
      "image/png": "[encoded data removed]",
      "text/plain": [
       "<Figure size 432x288 with 1 Axes>"
      ]
     },
     "metadata": {
      "needs_background": "light"
     },
     "output_type": "display_data"
    }
   ],
   "source": [
    "var_table = [fin.var_gaussian(hfi), \n",
    "             fin.var_gaussian(hfi, modified=True), \n",
    "             fin.var_historic(hfi)]\n",
    "comparison = pd.concat(var_table, axis=1)\n",
    "comparison.columns=['Gaussian', 'Cornish-Fisher', 'Historic']\n",
    "comparison.plot.bar(title=\"Hedge Fund Indices: VaR at 5%\")"
   ]
  },
  {
   "cell_type": "code",
   "execution_count": null,
   "id": "4b000fb0-a532-4039-89de-ee5697fb6c14",
   "metadata": {},
   "outputs": [],
   "source": []
  },
  {
   "cell_type": "markdown",
   "id": "a1e5fb89-8878-4016-8663-623aae5e9948",
   "metadata": {},
   "source": [
    "# Beyond VaR aka CVaR"
   ]
  },
  {
   "cell_type": "code",
   "execution_count": 10,
   "id": "1ad5c2b6-b3ee-44d7-b4fc-50c61e034727",
   "metadata": {},
   "outputs": [
    {
     "data": {
      "text/plain": [
       "Convertible Arbitrage     0.036550\n",
       "CTA Global                0.041264\n",
       "Distressed Securities     0.036429\n",
       "Emerging Markets          0.072364\n",
       "Equity Market Neutral     0.016879\n",
       "Event Driven              0.038336\n",
       "Fixed Income Arbitrage    0.028257\n",
       "Global Macro              0.020629\n",
       "Long/Short Equity         0.041943\n",
       "Merger Arbitrage          0.019143\n",
       "Relative Value            0.024650\n",
       "Short Selling             0.096821\n",
       "Funds Of Funds            0.033207\n",
       "dtype: float64"
      ]
     },
     "execution_count": 10,
     "metadata": {},
     "output_type": "execute_result"
    }
   ],
   "source": [
    "fin.cvar_historic(hfi)"
   ]
  },
  {
   "cell_type": "code",
   "execution_count": 12,
   "id": "cc48e7e2-0d66-4e12-92a9-f1a80d920b10",
   "metadata": {},
   "outputs": [
    {
     "data": {
      "text/plain": [
       "<AxesSubplot:>"
      ]
     },
     "execution_count": 12,
     "metadata": {},
     "output_type": "execute_result"
    },
    {
     "data": {
      "image/png": "[encoded data removed]",
      "text/plain": [
       "<Figure size 432x288 with 1 Axes>"
      ]
     },
     "metadata": {
      "needs_background": "light"
     },
     "output_type": "display_data"
    }
   ],
   "source": [
    "fin.cvar_historic(hfi).plot.bar()"
   ]
  },
  {
   "cell_type": "code",
   "execution_count": null,
   "id": "a1658770-938a-4a00-9dcf-178fde819d33",
   "metadata": {},
   "outputs": [],
   "source": []
  },
  {
   "cell_type": "code",
   "execution_count": null,
   "id": "6b31661e-1119-45e6-8eed-bbb0b18b93fa",
   "metadata": {},
   "outputs": [],
   "source": []
  }
 ],
 "metadata": {
  "kernelspec": {
   "display_name": "Python 3 (ipykernel)",
   "language": "python",
   "name": "python3"
  },
  "language_info": {
   "codemirror_mode": {
    "name": "ipython",
    "version": 3
   },
   "file_extension": ".py",
   "mimetype": "text/x-python",
   "name": "python",
   "nbconvert_exporter": "python",
   "pygments_lexer": "ipython3",
   "version": "3.9.7"
  }
 },
 "nbformat": 4,
 "nbformat_minor": 5
}
